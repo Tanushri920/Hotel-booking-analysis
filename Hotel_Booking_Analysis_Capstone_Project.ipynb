{
  "nbformat": 4,
  "nbformat_minor": 0,
  "metadata": {
    "kernelspec": {
      "display_name": "Python 3",
      "language": "python",
      "name": "python3"
    },
    "language_info": {
      "codemirror_mode": {
        "name": "ipython",
        "version": 3
      },
      "file_extension": ".py",
      "mimetype": "text/x-python",
      "name": "python",
      "nbconvert_exporter": "python",
      "pygments_lexer": "ipython3",
      "version": "3.6.6"
    },
    "colab": {
      "name": "Hotel Booking Analysis - Capstone Project.ipynb",
      "provenance": [],
      "include_colab_link": true
    }
  },
  "cells": [
    {
      "cell_type": "markdown",
      "metadata": {
        "id": "view-in-github",
        "colab_type": "text"
      },
      "source": [
        "<a href=\"https://colab.research.google.com/github/Tanushri920/Hotel-booking-analysis/blob/main/Hotel_Booking_Analysis_Capstone_Project.ipynb\" target=\"_parent\"><img src=\"https://colab.research.google.com/assets/colab-badge.svg\" alt=\"Open In Colab\"/></a>"
      ]
    },
    {
      "cell_type": "markdown",
      "metadata": {
        "id": "Y06xIdG26kRF"
      },
      "source": [
        "## <b> Have you ever wondered when the best time of year to book a hotel room is? Or the optimal length of stay in order to get the best daily rate? What if you wanted to predict whether or not a hotel was likely to receive a disproportionately high number of special requests? This hotel booking dataset can help you explore those questions!\n",
        "\n",
        "## <b>This data set contains booking information for a city hotel and a resort hotel, and includes information such as when the booking was made, length of stay, the number of adults, children, and/or babies, and the number of available parking spaces, among other things. All personally identifying information has been removed from the data. </b>\n",
        "\n",
        "## <b> Explore and analyze the data to discover important factors that govern the bookings. </b>"
      ]
    },
    {
      "cell_type": "markdown",
      "source": [
        "![images.jfif](data:image/jpeg;base64,/9j/4AAQSkZJRgABAQAAAQABAAD/2wCEAAoHCBYVFRgSFRIYGBgYGBgYGBgYHBgYGBgYGBgZGRgYGRgcIS4lHB4rIRgaJjgmKy8xNTU1GiQ7QDszPy40NTEBDAwMEA8QHxISHjQrISw0NDQ0NDQ0NDQ0NDQ0NDQ0NDQ0MTQ0NDQ0NDY0NDE0NDQ0NDQ0NDQ0NDQ0NDQ0NDQ0NP/AABEIAKgBLAMBIgACEQEDEQH/xAAbAAABBQEBAAAAAAAAAAAAAAAFAAIDBAYBB//EAEYQAAIBAgQCBgYGBwcDBQAAAAECAAMRBAUSITFBBhMiUWGRMlJxgaHRFEJykrHBByNigqKywhUkQ1PS4fAzRPEWY3OD4v/EABkBAAMBAQEAAAAAAAAAAAAAAAECAwAEBf/EACgRAAICAgICAgEEAwEAAAAAAAABAhESMQMhQVETMiIEQmGBI3HBFP/aAAwDAQACEQMRAD8AwtZNzImpy86yIxUUeyn1cl07SaOdNpmZFjARmYJcx2BkmLElH7HRL6AspGsknectLHMVmEI5fKLy9l/GRkdHHs5nQ2gSiu8OZzwgSkd40fqJyfYv0TIG4yxQ4SBuJioIUwMrZ1LOBlbOJo7KS+oPwrWMlqtcyCjxk9VLERyC2KnxhShwgunxhShwiPZeOiniUu0oOu8I4g7ym/GU8EHsbLeElaWsLElorHYQf0ICxK7w6/owLiOM0QcuxiSSnxjFj6XGZgiFsLxkOZ8ZNheMgzD0hEWysvqU6huJEZZrrYStKMjEv4blLWO9CVsNylnHehJ+S/7QFTjzGpHR2QWi5hoRThB2FhFOEm9l46IqkgcyeqZXaXOR7OrI6lTlO3kLzGjsI4GS4qRZcJLipNfY6JfQHvGlo54xhKHMRO0IZfxg0iEssEnIvx7FnHCBE42hzN1NtoFSmwYG0aP1F5fsEFplRcysTvLGIrFlAtKqqYKNELYEStm8t5eLytm1MnhBHZST/EjyvLDUXXqtvttfgecixGzaTyMlwGKempUE2+crMpLEw07JRH003hKiNoNp3vC1BezA9lo6B+I4ylUO8vYhd5Veibyngg9jJbwkrmke6WsIh22k2Vhsu1fRgXEcYexCdmB62GJhiDl2QJwj6XGPTCtyBM6lFr8JmCITwgk64EOSWJ2Nto3BJIq7OpOkkX7toiTKyf4lLGjSxS97GViknfDuxvadbBuNyptGJImwo4SfH+hG4SkQRcSzj6VxYQJdlv2mdpxxltcARH/2a530mMyKG4WFEXaUsPhyOIhUJE2VWis2HvEmDubSvWxRBtI1xxBuI9SJvA0VPo2SuqCsRlwU2Mnp9JnC6bQk+Ru+moaw7aI4sh2DorgceWq0RylHuQYqLfQJw1ILHVqYaFaeQEcat/3f946pkV/8Qj90fOJ8kb2VrqgGuFBhrC9HVZdU4Ojw/wA5vuiX6GBZRp65z7hM+X0xHFeEZzGZaqNaNw9MLwhqtkSubtVf+H5RU8gRf8Rz7dPym+VexoxrwB69MNxkIwyeE0T5IjcWf3EfKMHR+n6z/eHymXLEEopvRFluSo4uSPfwlLMstRG2tDVHLkTYM/3v9pHWyimxu2s/vGBcnewY/wAAGiFHCcqop4w2uU0l4KfvEzj5dTPFfifnCuRDOqAaUkuOE0OFyqiUvcX/ABlc5bS9T4t85KlBQLBdvafnM52LiBsXQRHsLRqkcoWbAU+Jpj4zq4RBwQQZoZICMF5y3ltOmz2a0IHBp/lr5RyYRBuKa+QhfIDEfmmGoBLgj5TOh05TSNRU8VB9wnVwqeovkIFyJIKiAGcWkXXJ3zVLQX1R5CSLQX1R5Cb5l6C42VcrfDlN7QJmVSmH7NvdNWlMDgBJFpDuHkIi5aYMDF0nB4CKo9vqnyM3C0x3CPCeE3z/AMDYmKwFZQ41I1vsmHcfXplOzTN7b7GGgkdpgfNbugYnnn0gBrWIPcdiI+rVAFzJekNHTinPraW81Hyg7MfQnRF3QHaRKmPS8O083o6OV+/umARZIEjSimSybNDVx6sxIkqVdoGwyQmnCArG6KGJG8htLOJXeRFZZaOWWxlp6VgWvQw578PS/hTR/TPNiJ6LkrasLhj3Uiv3atQflI/qF+I/DssTkk0zhWcR0jJwztpxhMY5ecvOGMMNGHFpwtGmVq+MpobPURT3FgD5QpWCyyXjC0ZQrI/oOrfZIMmFOF9G2RExpEsijKOIzSgh0tUFxxC3YjymVvRnS2SaYurnMHmVCodKVBfkD2T7geMIVECqWbYKCT7ALmB2thVMo9XF1cgOf4b/ADP4W+UJYZ1qUxWQ3Ri4GxBultWx9ot3wtSW0ZOL8lXq50U5RbpFQBt2792g38pYx2apSVGZXs6BwQvogsy6Xv6Ldnh4jvmxl6NlH2ThI4CU8rzZK7imiuL8XYWReySNRB2va3vlSp0iRGCvSqIf2gBYd/HebCXoGcfYZEesbTIYBlNwRcEcCJUzLHPR7Qos6hbllIAXvBHGKk26QzaSsJLJVlLKcT11I1GQodS6FO+tSCS1+ViALeMrZhnS03FFENSqfqDgD+0YMXdAzVWGljxITQcUzV61RpALpoJK3tYX1b76vux+WVOsWoTs9J1V10ldmDFW3J22i4urDkiYCOCxypJBTk7CYfpbTtXRvWQfAkQDmPoTWdNqVjSf7S/gZksy9Cd3C7SEnpganHxlOPnQyC0XcNCKcIPwx2l9HFpPyWWivXG8jCyN3Mj6w98sn0c8o2yd0m96L74Ol+y1VPJy/wDXPO+sPfPQugzasIR6uIqDzp0W/MyPO7gNxxqQVKRpSXOrjSk8+zpoEZhlorBULuljsUNjvYb948Jjej+BNfEtReo9kSqxszAk0wTb4HynpHVzBZJVWlmL62VF14pCzEKoDLUAuT42851cDtNEOVU0x2d5GaKGtRqONJGoFjsCbagePEjzhboziGr0C7m7I+hjbiCoZG9uzD92RdIc2pvTahRYVHew7G4VQQSS3DkIQ6MZQaFIh/Tdg7AHZQBZVHInjv4+E0n/AI/y34NH79aAfSfMmRhh6R7bW1Ece1sqg8ifzEMYTo9SpqEKK7DZ3YAlm+sd+Avw8LTLUF63MVVj6eKCe4VAqj4AT0O03LcYpIMHlJtmP6QZAqIcRQBRk3YLt2ebAcrcfZeX+jGZHEIyv6aW1H1lOwb5/wC80OgHssLg7Ed4Ox+BMwfQ9zTx60gdnNSg1+dwwU+0Mqn3Qx/yRae0CbwkmtMv9MszKAUENiw1ORx07gKPb/zjD2V5QlBFphQWAGtubOR2t+6+w9kxfSEhscwf0ddJT4JpS/wJno+ITS7p6rMPI2/KLyLGCoMHlJ2ZzpLka1KbVEQCogLCwALgC5U957pX6HZo1VWoudTIupSeJS4Bv32JHuM1CtYg+MwnRxerzRKYNlatUpHxR9S2PmPIQ8f5xafjRpvGSaHdMaKriaTaQFZE1W2vpdgT7bW8pts2ZaTVGOyIz277AnSB3k7ATIdPqf8A0W8HX+U/mY7pPn1XrqTtRKU9NOqqtY67qh1bEjncd1weMfFzghFLGTC+X5f2mxFVR1r7246FGyoPYAL+MnzSlqo1Vte9N/MKSPiJawOJSqi1EN1YeR5g+Ikz0rqw71YeYInPk8uy9LHozXQZVbC1jYalrpc89LU2sPZdTLWdZEcSERGVXBcgkX1Babvo24X0cZT/AEbjs4tD6uGb3q9RT/OJrsNTtVoH/wB0L9+nUT+uXm65URj3xtHnfR/NTQfqK1wt7b8Ub/TNsKQYFeIZSvtDC35wP0p6PdanWov6xR2h66j+oSn0Qzht6LqzBRdGG5FvqG/w9hiSSks4/wBjRbTxf9GgxxFDDJUUejhqbj7WhR/NM50Fw2tqlZt2BCgnvbdj7eE1SYcYhBRrPpRUCaUAJZVYlbu23MDYcpcwXRGmF00y1ME30hyCTa1yqgC9hFfJGml5Di005eBPpWk+vWA1lBVS24Nybc7HTtbeS4ekFLsB6aKpuLE6WDIxB7gWH70E5hmqYcGimLpnSSOyXd7gjUCwQgbjv74PGaYMgFsViUba4phiotttci/lJqMtIZuO2apaclVJmsNnWGvZcyqr4VqBZfey7ge+HsJjAyhtSOhNhVpNrp35B+aN4Nt4xJcckFckWZ7p/S/UI/q1B/ErCeeV3uNzPU+m9LVhH/ZKN5Nb855VUWdX6d3E0iACdtFYxXM6BCWmJP75WRpLqmDY1hIiJYJkTpMmK0Rz0H9HRvh6o7q4P3qYH9E8/m7/AEavdcSvcaLefWg/lF5vozR6aNhpi0yXTO6Z5lnQQ6Z54tJf7WCOoZXxSqVYAgiowG4PH056SV755fnWLVMwNZWDBK1J7ruCaZQsNvFSJ0/prt/6IfqNI1+P6K4eoukU1RuAZOzY8rgbETK9EMXUTEphWY6XZkKntBXAaxHd2lA25Tb4zpBhkQ1RWRxuVVWBdu4aeI9/CY7odlT1sQMW6lURme+41u1yFU9wJuT4W5x+NtReehZLtY7B2fUzhsc1QX7NVK699iwqfzAj3T0msguSpup7SnvVt1PkRBnSvo99JQOm1RAdP7Y46D+R+cBdHekHUf3XFBk07IzA3Ueqw427jBKXyQTW0aCwk09M1miee5SjPmOpOK16j37lRnYnyHxmtzbpHRVCtFxVqMLIqXbc8zbu42kfRLIGoI1WoP1ji1uaJsSL97G1/YIISwi29saSykkjN9OsHaqtS21RApP7aDT/AC6fjNrh8YtZErKb60Vm8HtZ1PiGDSTNMpSuhpuNjuCOKsODCY7BU8TgHKvSepSJ3KAkfaFvRPgYykuSCXlApwlfhmxtMJg6XW5idJ2FV3JHJUJJPmAPfD2Iz5nXRh6FVnYWBZCqpfmT4Sx0byL6Opd7Go/pHjpF76QfbuYsXhFt7YZLNpLQN6dp+qpt3OR5p/8AmFMXloxOBwwOz/RaBRu50QJv4HRYwf0pw2Jr/qkodhWDa9S9o6SOB4DcyfIDiUVKFdVWmiOEcMCw9JlQgHcaja/K8dSrjVPsXG59roz3R3NWwtU0qlwhbS4P1GG2r2T0inY2INwecxvSLJRWK1KZAfg19gy8jfvHCPypcbSTq1qUSo9HWWYr4Ajl4RZ4zSknT8jJSi2muhvQHs4vFUu+lVHvp1UP4XmrzXECkgrHYU6lJyfBaqE/C8yOA6OYlKnXpiUVyWJYBjfXfUCOYNztD+dZPXxNNKf0hFXQvWjQTrcE3Yb7Jw7PhG5JRlJO9CRUkmqNBjFCFyeClj7rwLleDQsXKqmss7WFuJsB4nbcyk9CtQp9TVxHW6yuk2syKly25J1X7PHhphCkg6pWudW6gd+2rj7yJyz3Sezph9bYcw2TpV7dwPVHcJ2r1lE7MGtw5/HjIaNggNyotzkVddrh7xMWB232+gVicFQdmerQQljclBoYk89Skb+O8F1Oj+CJ3fEp4KabD4oDC9ZD3yo9IG4uR3WF/wDxLRco+TOMX4OYbopgDxfEn7RVR5qn5wjS6I06LddhK9RHAsVfTUpVF5o62BKncHfntA2CwtRmuh2HAm+57yPV8Zoss1gBWGmpqUWBJQknZWDE2v3gxnN3snLjjVlbOu3haq2tem9hfVpZACU1fWA2IPEqRzBnkbtPdM2wKotVQOy661HcdLBx93V8J4S6227tpfhSVoVStDNUV4wxAy1GsnWP0yFGkt5qDaOmdWMaIGYKYnWbH9Gh7eIXvpofuuB/XMje81X6OW/vLr61F/4XQ/lE5PqzHoYWdCx4WJiALnYTyy1lfGYRKqNTdbowswuRexB4jfiIKTojgx/2497uf6oKz3puEbqsNT1ve2pr6QeFlUbsZHgs0zHZ6jUVB30OLMR9lO0J0R4uRRu6/sjKUW9WaKh0bwqG64ZL95Gr+a8KLTAFgLDuGw8pVw2ZobK7Kjkbrcke5iB8YQUcxJScv3Dqloj0yHEYFHFnpo/2lDfiJc0zumIm1ozZQw2W0qfoUkTxVVB8wJY6uT6Y60LbezXRVNKMNGXdEXVzWzZFBqEr1lCi8KlIHzW97CbIaPbKaq1RtKy9UyJlXUd++RZZU0MGIO0J47PRpsFIvtcyE5zukO8k0oozj5crm1yDB2Y5a9FdYqbeMu4nMwnoWv3mAMfi2qenUv4cp08an5DOgnlGP17E7w7SxQAJY2txmRytkRwQ3mbCEMwzNEVmd1twsO0TfkAJRw/LpCKq7J6rtXqltJtbSo8OPLnuYUQatFO1tJJvbfe3x5TO0OlWH6xfo47BUX1tpbXbfSCLgcpqej9UV1eoKjIVO4DKwta97EGBwnF9oGcXEuOFK6SWlfE6O8yKn0mw7Deo37yEfFVtIKmd4VvrsfEal/mSCprwIpIZUccJAjWJ3HvNpcr5bW6vr9KaNIcMTtoIuDbVfh4QE9cn/Eo+8P8A6o+EvIVJPRbw2caGIIvq2uBtsLG/cYUwOL1uajqUFwVJ+tp3XSvE/hM6FtualD26Hb+uTJmOgf8AWUfYogH+MkQ4ejOXVG1xOOJWlUZbm7B1A4qTsPbYDzI5zxvpNlRw9dqfFG7dJ+Iem+6sDz7j4ia04+nWDCtXxTptdS9KihvtayINvbAXSXPxXpphw4Zab9gE62VQpWxfny2nRxppkEqZlSJwCSWnAkrZTESLJNMSiPtDZsSONMey2kZhFZZwAQuoe+gntWNtrd82fRLAiljKZXtI6VVVv/rZtJHJuzwmCBhrKcZVY9VTqFXYEK17abC/HlsD5yc4t6Cn0ey6DxtM30yzQUaToL6zZVty2Bc+Fgbe+Z3KcJiVrJUrYouqMCULs2rwI5j5Sb9IOKRwKqA6jTZiDwuXZRb7k5uPhTkk2Cc2lZT6NZYiYdsdUN6jvooJbYAcX/m8vGEcF9aq5vbhfmZe6SYBaYw2EpNqHVDfw4FvgZSqgEimnort7TNNvJtlOJLHofgqRqPrbnv7BNLRJQWBt/zhB9BVppc/+TyEGdKM2an1dOnUKVHIYsLEInAl7g7fKRpzlSKtqMbZqBiXHOPGMbuEyFXNahejQw2JWu7ai7sqEBbjc6bWtvt7Jcp5yzv1VKmKzp6bg6KQPdc6j7heZ8UkJlFmk+nn1RIK2YVfqBP3g3+qAcNnhNd8PVprTZF13D600gAkliB3xDpHR1BXSquo2Q6Lhx6ygG9vdMoSTqjXGrLuJzXGj0KdM+75vBOJ6Q5iv/b/AHUDf1mEqWc4dlLiqAgbQWcMg1WvbcSzRxVN/Qq02+y6H4XjW1tAxT8mSq9LMwG3U1B7KQ/0mVzn2YubilWJ/wDjH+ib1UY7gE+y8S1GXgxHvIjLlj5igYPwzDri82fYUq/3dP4KJC2VZrU40Kp+0zfObytVdhtVZTyN7jy+UztbOMSHZLuzJx0gkWHPYWt7ZaGMtJE5ZR8gheiOZtxogfacfmZKvQTMDxFFfayzrZ7VP+I/uJ8pC2e1OBc+HIytNeBE2/JbT9HuMPpYjDoPbf8AKZnOsH1DtRNdapUjUyCyA81B5kcz4S9mGdvosHa5Nr3I2Mz6DUbkx4ryLJvRH1CkH6vs2vL2W9HzUAKYtUY32LFTt7GEhbTyhTB4HCshZ8WUf1OrZh94GO2kuydMIp+j7MSoaniaLggEfrmv7wy/nM9mWExeHqGjUddY2OllYb/tARtSynsVCR37iQO1+JjVF+AZS9mpxQzpMOxqVG6nQAO3RK6CLWsDe1rbTLf2hieb/h8pxmPefMxsDjH0ZSkvJIcbiT/iN94fKMdqzcar/eP5Tlm8Y4I3jNivQcn7I6OFZzYuW9tz+Jl7D5et9CgXZTa/G/K3d/vGIhHGcxGKC9oNdtre6MkLZWba44EbEeM6rmE8ciVU+kIwV7DWvrHhceMFCTcTohOydXjtQkAM7BiPkycG+0iYWiRpId4NB2iK8uZY1nv4H8JTItLWB4zPQAzSxRDA3lHP8UzAKTcaLL4DUzW82jzK+Ppl0tzHD8xJx6lZpq40b3+0/pFFa4X9YiLTYj1G3V/MsD7u+S5ZhbDUf+d5mAyDpC9G1MPYrcC4BBB4qQeI8DNjhulNF00PTdHItemVdfEhWII9lzIcnHJWkPDkjRectVfSlgF9HUCVuObAEX85zA5TWpVKuIY06rvYL6SAC+4BN7C1tvDjJcuzjBqLCvpPMujL+F4Wo4yi3o4ik3hrUHya057nHwUcoyM3l2T1kp4p3VRXqhtLBrixBsB6u5/CRZDWfD4fqhhKpqhmuNNlYkmzF+FrWHumzGHY7hbjwsw+EYyEcQR7QRC+Vu7WwKK8MzGW5eMOHxOKdOsqX1XI0gWvoW/E7SDo4hxNV8a/AEpSX1FHO3I8PMzUvTDbEAjuIBkX0VApQIArXuANIN+PCD5bT9/8Dhr0ZHN6PXVTg8Og0ITVrWuAzXuVJG/PzlyngqdZU65EpujCoqIq6kReCu1t+HOEf/T1EEsgdGPFkd0J9tjvGPkSim1KnUdA99bbO739Zm3lfkjVJiqDu2CMupfSsS+I7S0k7C6WZdZH1iQZpqlZEXU7hU2uzHYeJME4fJKiIlEYgCkt7hUCuwPEFwYQxeXI9PqvRUbC3h4RZuLku+jRUkn12TYbO8Gp1dZ1u3YBBRS3MnVy8T5QJmvSKthnapRan/eQXYFdSqoJChdxfnIcxwmGw1PtKGflc2J9w4CQ5FkYzJ63VVrLR0LqYGxZgSQoHAAgi86uLvqK6IyVdy7Ms1Qklr2JJO2258JL9J1dl7X5MOZ7jD+N6FYhKvUKA7FdQ0cLd9za3vgHNMorUNS1EKlQCQbA2JsCAfS915ZRktk3KO0UMYt198HqpB2P5QuaD2F6bbi42O/slCstjMnXQ7SkiOg5v2lv7r/hJDXXmgHsJX8bxtOoRJVqx0xHBeCM10H1T5g/KNpVA5C2tc8ZK7g/VHlIaaKGGpQRfeNaF+N+wvi8nNNNfWKdr+i0CGofWPlDOPxNBkslIKbcYFKjumckjLjbFqPrtOFv2m850KO6dAHcIMg/ERsw8T7T8o+n4IPK/wCMdr8Jaw1jNkw/EvZCoY6idtv+DwjVWTub+yNCxHKysYJIaqTunwjrTkFhxRGY9WjDOAxmKnRMRJsKLGQqby1QWIx2rJ7xlR9IvOrxtKuNvFSsBTxJDm9h7uMVCkL7kgc7EyxhsPztxls4GwvGbBSLoy0aAyPqFtr8ZTcFe+WsG7ILcpHiLsb2k7CokdLFOu6uwPgSDCWH6UYpPRxD+wnUPI3gzqz3RFfCBxi/AcTR0enOJHp9W/2kX8VtCFHp6Pr4VT4ozJ8DeYm3eJwrA+GD8AqSPRaPTPCN6dOsnsKMPjYy7T6QYFuGJZftI35Ty3TIWWL/AOeBrkj12tnGCUXOLLeCo9/jM7mHTynSLdVSDclapv7yq7e68wZTwkb0pSPDBPQuUqFi8zes5ZmuSfrc/lDfRvpPicCGFLQA5BZWUMpIFgdrEce+ZevRtOIzjgxnQkl0iUk2ev5P0kxnXpi8RhUFOuBSVrhFAuO0LlmttvcQb006SUnxbBSHVVCakIZbi9xfgTc8p5/iMxxD01pvWqPTTZULNoX2LwlZH7OnxjX0Jj2aXE5qpsUJFjcbWt7JUbHl3ZnCuTxLDe/fAjRKSItodRZdqICeyLD23lrCYBn4CRYFSw4c5r8iwYtY8f8AlpHkniVjF0B6XRp2Fwfbx2tBuPyp6Z33G1z3X8OM9syzBKiDWttuPf7u+YHpTTR8TZCCBYXHA84seSwd2YylljtaynfvG2/DeVq+HKMVPLunqeOSnTwwI3LAgjxI5TzutTBYmOpWMgcEi6vwhEUZ00YbCUadAmS9VpBl+ilhKmJflCpAoqbjnHh++IicWYI8TsaIt4KDZEY1ooo5Nj0NpeoRRRZDx0WkW8r4ynewiiiR2aQR6hVRTK9SdigWgDFaSo8UUVodEquJ0IDFFFHR00FItIWwcUUCbMxhwkr1cIROxRk2KyAqRxEYxiilUIUqpud5HFFGMWExBC6OUkq0VABHPjFFHQj2V38JLh6Go24RRRRkFcMgXYTTZNUFxeKKc/KVjo1OLzEqlg1/aZiXfVU1Hviik+I0khucY0v2eQ4fnApEUUsiY9ZIqzsUJhjtYQfU3iijoKI7TqxRQmFaKKKYB//Z)\n",
        "\n",
        "---"
      ],
      "metadata": {
        "id": "i-g7kLNDsNAz"
      }
    },
    {
      "cell_type": "markdown",
      "source": [
        "# Import Packages\n",
        " \n",
        "   First import necessary packages"
      ],
      "metadata": {
        "id": "_JeR3mKQssXJ"
      }
    },
    {
      "cell_type": "code",
      "metadata": {
        "id": "dByMsuzT8Tnw"
      },
      "source": [
        "# importing libraries\n",
        "import numpy as np\n",
        "import pandas as pd\n",
        "import seaborn as sns\n",
        "import matplotlib.pyplot as plt\n",
        "from google.colab import files\n",
        "%matplotlib inline"
      ],
      "execution_count": 1,
      "outputs": []
    },
    {
      "cell_type": "markdown",
      "source": [
        "# Mounting Drive"
      ],
      "metadata": {
        "id": "unTpNO1wz0Cl"
      }
    },
    {
      "cell_type": "code",
      "source": [
        "from google.colab import drive\n",
        "drive.mount('/content/drive/')"
      ],
      "metadata": {
        "colab": {
          "base_uri": "https://localhost:8080/"
        },
        "id": "R0WLhqPcz_8e",
        "outputId": "ed47d0fe-2c99-41e5-bf10-5f2d3a54d227"
      },
      "execution_count": 2,
      "outputs": [
        {
          "output_type": "stream",
          "name": "stdout",
          "text": [
            "Mounted at /content/drive/\n"
          ]
        }
      ]
    },
    {
      "cell_type": "markdown",
      "source": [
        "# csv file location"
      ],
      "metadata": {
        "id": "6LpuKKCa0BYz"
      }
    },
    {
      "cell_type": "code",
      "source": [
        "# csv file location\n",
        "file_path = '/content/drive/MyDrive/CSV FILE/Hotel Bookings.csv'"
      ],
      "metadata": {
        "id": "J5vOTT_p0Sa3"
      },
      "execution_count": 3,
      "outputs": []
    },
    {
      "cell_type": "markdown",
      "source": [
        "# Reading Data"
      ],
      "metadata": {
        "id": "BzNraBDj0X43"
      }
    },
    {
      "cell_type": "code",
      "source": [
        "# read csv file \n",
        "df = pd.read_csv(file_path)"
      ],
      "metadata": {
        "id": "VuQEY_hR0cBb"
      },
      "execution_count": 4,
      "outputs": []
    },
    {
      "cell_type": "markdown",
      "source": [
        "# Taking a look to data "
      ],
      "metadata": {
        "id": "mVR-sXUh0mS7"
      }
    },
    {
      "cell_type": "code",
      "source": [
        "# checking first 5 rows\n",
        "df.head()"
      ],
      "metadata": {
        "colab": {
          "base_uri": "https://localhost:8080/",
          "height": 386
        },
        "id": "1py8-jC-0oJc",
        "outputId": "e626dffb-04b3-440a-e1c2-3e9e37d6d472"
      },
      "execution_count": 5,
      "outputs": [
        {
          "output_type": "execute_result",
          "data": {
            "text/plain": [
              "          hotel  is_canceled  lead_time  arrival_date_year arrival_date_month  \\\n",
              "0  Resort Hotel            0        342               2015               July   \n",
              "1  Resort Hotel            0        737               2015               July   \n",
              "2  Resort Hotel            0          7               2015               July   \n",
              "3  Resort Hotel            0         13               2015               July   \n",
              "4  Resort Hotel            0         14               2015               July   \n",
              "\n",
              "   arrival_date_week_number  arrival_date_day_of_month  \\\n",
              "0                        27                          1   \n",
              "1                        27                          1   \n",
              "2                        27                          1   \n",
              "3                        27                          1   \n",
              "4                        27                          1   \n",
              "\n",
              "   stays_in_weekend_nights  stays_in_week_nights  adults  ...  deposit_type  \\\n",
              "0                        0                     0       2  ...    No Deposit   \n",
              "1                        0                     0       2  ...    No Deposit   \n",
              "2                        0                     1       1  ...    No Deposit   \n",
              "3                        0                     1       1  ...    No Deposit   \n",
              "4                        0                     2       2  ...    No Deposit   \n",
              "\n",
              "   agent company days_in_waiting_list customer_type   adr  \\\n",
              "0    NaN     NaN                    0     Transient   0.0   \n",
              "1    NaN     NaN                    0     Transient   0.0   \n",
              "2    NaN     NaN                    0     Transient  75.0   \n",
              "3  304.0     NaN                    0     Transient  75.0   \n",
              "4  240.0     NaN                    0     Transient  98.0   \n",
              "\n",
              "   required_car_parking_spaces  total_of_special_requests  reservation_status  \\\n",
              "0                            0                          0           Check-Out   \n",
              "1                            0                          0           Check-Out   \n",
              "2                            0                          0           Check-Out   \n",
              "3                            0                          0           Check-Out   \n",
              "4                            0                          1           Check-Out   \n",
              "\n",
              "  reservation_status_date  \n",
              "0              2015-07-01  \n",
              "1              2015-07-01  \n",
              "2              2015-07-02  \n",
              "3              2015-07-02  \n",
              "4              2015-07-03  \n",
              "\n",
              "[5 rows x 32 columns]"
            ],
            "text/html": [
              "\n",
              "  <div id=\"df-93b8773c-0a8f-4b88-87ac-8c415583e8fb\">\n",
              "    <div class=\"colab-df-container\">\n",
              "      <div>\n",
              "<style scoped>\n",
              "    .dataframe tbody tr th:only-of-type {\n",
              "        vertical-align: middle;\n",
              "    }\n",
              "\n",
              "    .dataframe tbody tr th {\n",
              "        vertical-align: top;\n",
              "    }\n",
              "\n",
              "    .dataframe thead th {\n",
              "        text-align: right;\n",
              "    }\n",
              "</style>\n",
              "<table border=\"1\" class=\"dataframe\">\n",
              "  <thead>\n",
              "    <tr style=\"text-align: right;\">\n",
              "      <th></th>\n",
              "      <th>hotel</th>\n",
              "      <th>is_canceled</th>\n",
              "      <th>lead_time</th>\n",
              "      <th>arrival_date_year</th>\n",
              "      <th>arrival_date_month</th>\n",
              "      <th>arrival_date_week_number</th>\n",
              "      <th>arrival_date_day_of_month</th>\n",
              "      <th>stays_in_weekend_nights</th>\n",
              "      <th>stays_in_week_nights</th>\n",
              "      <th>adults</th>\n",
              "      <th>...</th>\n",
              "      <th>deposit_type</th>\n",
              "      <th>agent</th>\n",
              "      <th>company</th>\n",
              "      <th>days_in_waiting_list</th>\n",
              "      <th>customer_type</th>\n",
              "      <th>adr</th>\n",
              "      <th>required_car_parking_spaces</th>\n",
              "      <th>total_of_special_requests</th>\n",
              "      <th>reservation_status</th>\n",
              "      <th>reservation_status_date</th>\n",
              "    </tr>\n",
              "  </thead>\n",
              "  <tbody>\n",
              "    <tr>\n",
              "      <th>0</th>\n",
              "      <td>Resort Hotel</td>\n",
              "      <td>0</td>\n",
              "      <td>342</td>\n",
              "      <td>2015</td>\n",
              "      <td>July</td>\n",
              "      <td>27</td>\n",
              "      <td>1</td>\n",
              "      <td>0</td>\n",
              "      <td>0</td>\n",
              "      <td>2</td>\n",
              "      <td>...</td>\n",
              "      <td>No Deposit</td>\n",
              "      <td>NaN</td>\n",
              "      <td>NaN</td>\n",
              "      <td>0</td>\n",
              "      <td>Transient</td>\n",
              "      <td>0.0</td>\n",
              "      <td>0</td>\n",
              "      <td>0</td>\n",
              "      <td>Check-Out</td>\n",
              "      <td>2015-07-01</td>\n",
              "    </tr>\n",
              "    <tr>\n",
              "      <th>1</th>\n",
              "      <td>Resort Hotel</td>\n",
              "      <td>0</td>\n",
              "      <td>737</td>\n",
              "      <td>2015</td>\n",
              "      <td>July</td>\n",
              "      <td>27</td>\n",
              "      <td>1</td>\n",
              "      <td>0</td>\n",
              "      <td>0</td>\n",
              "      <td>2</td>\n",
              "      <td>...</td>\n",
              "      <td>No Deposit</td>\n",
              "      <td>NaN</td>\n",
              "      <td>NaN</td>\n",
              "      <td>0</td>\n",
              "      <td>Transient</td>\n",
              "      <td>0.0</td>\n",
              "      <td>0</td>\n",
              "      <td>0</td>\n",
              "      <td>Check-Out</td>\n",
              "      <td>2015-07-01</td>\n",
              "    </tr>\n",
              "    <tr>\n",
              "      <th>2</th>\n",
              "      <td>Resort Hotel</td>\n",
              "      <td>0</td>\n",
              "      <td>7</td>\n",
              "      <td>2015</td>\n",
              "      <td>July</td>\n",
              "      <td>27</td>\n",
              "      <td>1</td>\n",
              "      <td>0</td>\n",
              "      <td>1</td>\n",
              "      <td>1</td>\n",
              "      <td>...</td>\n",
              "      <td>No Deposit</td>\n",
              "      <td>NaN</td>\n",
              "      <td>NaN</td>\n",
              "      <td>0</td>\n",
              "      <td>Transient</td>\n",
              "      <td>75.0</td>\n",
              "      <td>0</td>\n",
              "      <td>0</td>\n",
              "      <td>Check-Out</td>\n",
              "      <td>2015-07-02</td>\n",
              "    </tr>\n",
              "    <tr>\n",
              "      <th>3</th>\n",
              "      <td>Resort Hotel</td>\n",
              "      <td>0</td>\n",
              "      <td>13</td>\n",
              "      <td>2015</td>\n",
              "      <td>July</td>\n",
              "      <td>27</td>\n",
              "      <td>1</td>\n",
              "      <td>0</td>\n",
              "      <td>1</td>\n",
              "      <td>1</td>\n",
              "      <td>...</td>\n",
              "      <td>No Deposit</td>\n",
              "      <td>304.0</td>\n",
              "      <td>NaN</td>\n",
              "      <td>0</td>\n",
              "      <td>Transient</td>\n",
              "      <td>75.0</td>\n",
              "      <td>0</td>\n",
              "      <td>0</td>\n",
              "      <td>Check-Out</td>\n",
              "      <td>2015-07-02</td>\n",
              "    </tr>\n",
              "    <tr>\n",
              "      <th>4</th>\n",
              "      <td>Resort Hotel</td>\n",
              "      <td>0</td>\n",
              "      <td>14</td>\n",
              "      <td>2015</td>\n",
              "      <td>July</td>\n",
              "      <td>27</td>\n",
              "      <td>1</td>\n",
              "      <td>0</td>\n",
              "      <td>2</td>\n",
              "      <td>2</td>\n",
              "      <td>...</td>\n",
              "      <td>No Deposit</td>\n",
              "      <td>240.0</td>\n",
              "      <td>NaN</td>\n",
              "      <td>0</td>\n",
              "      <td>Transient</td>\n",
              "      <td>98.0</td>\n",
              "      <td>0</td>\n",
              "      <td>1</td>\n",
              "      <td>Check-Out</td>\n",
              "      <td>2015-07-03</td>\n",
              "    </tr>\n",
              "  </tbody>\n",
              "</table>\n",
              "<p>5 rows × 32 columns</p>\n",
              "</div>\n",
              "      <button class=\"colab-df-convert\" onclick=\"convertToInteractive('df-93b8773c-0a8f-4b88-87ac-8c415583e8fb')\"\n",
              "              title=\"Convert this dataframe to an interactive table.\"\n",
              "              style=\"display:none;\">\n",
              "        \n",
              "  <svg xmlns=\"http://www.w3.org/2000/svg\" height=\"24px\"viewBox=\"0 0 24 24\"\n",
              "       width=\"24px\">\n",
              "    <path d=\"M0 0h24v24H0V0z\" fill=\"none\"/>\n",
              "    <path d=\"M18.56 5.44l.94 2.06.94-2.06 2.06-.94-2.06-.94-.94-2.06-.94 2.06-2.06.94zm-11 1L8.5 8.5l.94-2.06 2.06-.94-2.06-.94L8.5 2.5l-.94 2.06-2.06.94zm10 10l.94 2.06.94-2.06 2.06-.94-2.06-.94-.94-2.06-.94 2.06-2.06.94z\"/><path d=\"M17.41 7.96l-1.37-1.37c-.4-.4-.92-.59-1.43-.59-.52 0-1.04.2-1.43.59L10.3 9.45l-7.72 7.72c-.78.78-.78 2.05 0 2.83L4 21.41c.39.39.9.59 1.41.59.51 0 1.02-.2 1.41-.59l7.78-7.78 2.81-2.81c.8-.78.8-2.07 0-2.86zM5.41 20L4 18.59l7.72-7.72 1.47 1.35L5.41 20z\"/>\n",
              "  </svg>\n",
              "      </button>\n",
              "      \n",
              "  <style>\n",
              "    .colab-df-container {\n",
              "      display:flex;\n",
              "      flex-wrap:wrap;\n",
              "      gap: 12px;\n",
              "    }\n",
              "\n",
              "    .colab-df-convert {\n",
              "      background-color: #E8F0FE;\n",
              "      border: none;\n",
              "      border-radius: 50%;\n",
              "      cursor: pointer;\n",
              "      display: none;\n",
              "      fill: #1967D2;\n",
              "      height: 32px;\n",
              "      padding: 0 0 0 0;\n",
              "      width: 32px;\n",
              "    }\n",
              "\n",
              "    .colab-df-convert:hover {\n",
              "      background-color: #E2EBFA;\n",
              "      box-shadow: 0px 1px 2px rgba(60, 64, 67, 0.3), 0px 1px 3px 1px rgba(60, 64, 67, 0.15);\n",
              "      fill: #174EA6;\n",
              "    }\n",
              "\n",
              "    [theme=dark] .colab-df-convert {\n",
              "      background-color: #3B4455;\n",
              "      fill: #D2E3FC;\n",
              "    }\n",
              "\n",
              "    [theme=dark] .colab-df-convert:hover {\n",
              "      background-color: #434B5C;\n",
              "      box-shadow: 0px 1px 3px 1px rgba(0, 0, 0, 0.15);\n",
              "      filter: drop-shadow(0px 1px 2px rgba(0, 0, 0, 0.3));\n",
              "      fill: #FFFFFF;\n",
              "    }\n",
              "  </style>\n",
              "\n",
              "      <script>\n",
              "        const buttonEl =\n",
              "          document.querySelector('#df-93b8773c-0a8f-4b88-87ac-8c415583e8fb button.colab-df-convert');\n",
              "        buttonEl.style.display =\n",
              "          google.colab.kernel.accessAllowed ? 'block' : 'none';\n",
              "\n",
              "        async function convertToInteractive(key) {\n",
              "          const element = document.querySelector('#df-93b8773c-0a8f-4b88-87ac-8c415583e8fb');\n",
              "          const dataTable =\n",
              "            await google.colab.kernel.invokeFunction('convertToInteractive',\n",
              "                                                     [key], {});\n",
              "          if (!dataTable) return;\n",
              "\n",
              "          const docLinkHtml = 'Like what you see? Visit the ' +\n",
              "            '<a target=\"_blank\" href=https://colab.research.google.com/notebooks/data_table.ipynb>data table notebook</a>'\n",
              "            + ' to learn more about interactive tables.';\n",
              "          element.innerHTML = '';\n",
              "          dataTable['output_type'] = 'display_data';\n",
              "          await google.colab.output.renderOutput(dataTable, element);\n",
              "          const docLink = document.createElement('div');\n",
              "          docLink.innerHTML = docLinkHtml;\n",
              "          element.appendChild(docLink);\n",
              "        }\n",
              "      </script>\n",
              "    </div>\n",
              "  </div>\n",
              "  "
            ]
          },
          "metadata": {},
          "execution_count": 5
        }
      ]
    },
    {
      "cell_type": "code",
      "source": [
        "# cheking last 5 rows\n",
        "df.tail()"
      ],
      "metadata": {
        "colab": {
          "base_uri": "https://localhost:8080/",
          "height": 386
        },
        "id": "zYZZgyDx0y-0",
        "outputId": "d41f8fb7-f968-4a23-8194-f3a0e9704b74"
      },
      "execution_count": 6,
      "outputs": [
        {
          "output_type": "execute_result",
          "data": {
            "text/plain": [
              "             hotel  is_canceled  lead_time  arrival_date_year  \\\n",
              "119385  City Hotel            0         23               2017   \n",
              "119386  City Hotel            0        102               2017   \n",
              "119387  City Hotel            0         34               2017   \n",
              "119388  City Hotel            0        109               2017   \n",
              "119389  City Hotel            0        205               2017   \n",
              "\n",
              "       arrival_date_month  arrival_date_week_number  \\\n",
              "119385             August                        35   \n",
              "119386             August                        35   \n",
              "119387             August                        35   \n",
              "119388             August                        35   \n",
              "119389             August                        35   \n",
              "\n",
              "        arrival_date_day_of_month  stays_in_weekend_nights  \\\n",
              "119385                         30                        2   \n",
              "119386                         31                        2   \n",
              "119387                         31                        2   \n",
              "119388                         31                        2   \n",
              "119389                         29                        2   \n",
              "\n",
              "        stays_in_week_nights  adults  ...  deposit_type  agent company  \\\n",
              "119385                     5       2  ...    No Deposit  394.0     NaN   \n",
              "119386                     5       3  ...    No Deposit    9.0     NaN   \n",
              "119387                     5       2  ...    No Deposit    9.0     NaN   \n",
              "119388                     5       2  ...    No Deposit   89.0     NaN   \n",
              "119389                     7       2  ...    No Deposit    9.0     NaN   \n",
              "\n",
              "       days_in_waiting_list customer_type     adr  \\\n",
              "119385                    0     Transient   96.14   \n",
              "119386                    0     Transient  225.43   \n",
              "119387                    0     Transient  157.71   \n",
              "119388                    0     Transient  104.40   \n",
              "119389                    0     Transient  151.20   \n",
              "\n",
              "        required_car_parking_spaces  total_of_special_requests  \\\n",
              "119385                            0                          0   \n",
              "119386                            0                          2   \n",
              "119387                            0                          4   \n",
              "119388                            0                          0   \n",
              "119389                            0                          2   \n",
              "\n",
              "        reservation_status reservation_status_date  \n",
              "119385           Check-Out              2017-09-06  \n",
              "119386           Check-Out              2017-09-07  \n",
              "119387           Check-Out              2017-09-07  \n",
              "119388           Check-Out              2017-09-07  \n",
              "119389           Check-Out              2017-09-07  \n",
              "\n",
              "[5 rows x 32 columns]"
            ],
            "text/html": [
              "\n",
              "  <div id=\"df-2c00828c-ee50-46c7-aa74-fc6a564bc842\">\n",
              "    <div class=\"colab-df-container\">\n",
              "      <div>\n",
              "<style scoped>\n",
              "    .dataframe tbody tr th:only-of-type {\n",
              "        vertical-align: middle;\n",
              "    }\n",
              "\n",
              "    .dataframe tbody tr th {\n",
              "        vertical-align: top;\n",
              "    }\n",
              "\n",
              "    .dataframe thead th {\n",
              "        text-align: right;\n",
              "    }\n",
              "</style>\n",
              "<table border=\"1\" class=\"dataframe\">\n",
              "  <thead>\n",
              "    <tr style=\"text-align: right;\">\n",
              "      <th></th>\n",
              "      <th>hotel</th>\n",
              "      <th>is_canceled</th>\n",
              "      <th>lead_time</th>\n",
              "      <th>arrival_date_year</th>\n",
              "      <th>arrival_date_month</th>\n",
              "      <th>arrival_date_week_number</th>\n",
              "      <th>arrival_date_day_of_month</th>\n",
              "      <th>stays_in_weekend_nights</th>\n",
              "      <th>stays_in_week_nights</th>\n",
              "      <th>adults</th>\n",
              "      <th>...</th>\n",
              "      <th>deposit_type</th>\n",
              "      <th>agent</th>\n",
              "      <th>company</th>\n",
              "      <th>days_in_waiting_list</th>\n",
              "      <th>customer_type</th>\n",
              "      <th>adr</th>\n",
              "      <th>required_car_parking_spaces</th>\n",
              "      <th>total_of_special_requests</th>\n",
              "      <th>reservation_status</th>\n",
              "      <th>reservation_status_date</th>\n",
              "    </tr>\n",
              "  </thead>\n",
              "  <tbody>\n",
              "    <tr>\n",
              "      <th>119385</th>\n",
              "      <td>City Hotel</td>\n",
              "      <td>0</td>\n",
              "      <td>23</td>\n",
              "      <td>2017</td>\n",
              "      <td>August</td>\n",
              "      <td>35</td>\n",
              "      <td>30</td>\n",
              "      <td>2</td>\n",
              "      <td>5</td>\n",
              "      <td>2</td>\n",
              "      <td>...</td>\n",
              "      <td>No Deposit</td>\n",
              "      <td>394.0</td>\n",
              "      <td>NaN</td>\n",
              "      <td>0</td>\n",
              "      <td>Transient</td>\n",
              "      <td>96.14</td>\n",
              "      <td>0</td>\n",
              "      <td>0</td>\n",
              "      <td>Check-Out</td>\n",
              "      <td>2017-09-06</td>\n",
              "    </tr>\n",
              "    <tr>\n",
              "      <th>119386</th>\n",
              "      <td>City Hotel</td>\n",
              "      <td>0</td>\n",
              "      <td>102</td>\n",
              "      <td>2017</td>\n",
              "      <td>August</td>\n",
              "      <td>35</td>\n",
              "      <td>31</td>\n",
              "      <td>2</td>\n",
              "      <td>5</td>\n",
              "      <td>3</td>\n",
              "      <td>...</td>\n",
              "      <td>No Deposit</td>\n",
              "      <td>9.0</td>\n",
              "      <td>NaN</td>\n",
              "      <td>0</td>\n",
              "      <td>Transient</td>\n",
              "      <td>225.43</td>\n",
              "      <td>0</td>\n",
              "      <td>2</td>\n",
              "      <td>Check-Out</td>\n",
              "      <td>2017-09-07</td>\n",
              "    </tr>\n",
              "    <tr>\n",
              "      <th>119387</th>\n",
              "      <td>City Hotel</td>\n",
              "      <td>0</td>\n",
              "      <td>34</td>\n",
              "      <td>2017</td>\n",
              "      <td>August</td>\n",
              "      <td>35</td>\n",
              "      <td>31</td>\n",
              "      <td>2</td>\n",
              "      <td>5</td>\n",
              "      <td>2</td>\n",
              "      <td>...</td>\n",
              "      <td>No Deposit</td>\n",
              "      <td>9.0</td>\n",
              "      <td>NaN</td>\n",
              "      <td>0</td>\n",
              "      <td>Transient</td>\n",
              "      <td>157.71</td>\n",
              "      <td>0</td>\n",
              "      <td>4</td>\n",
              "      <td>Check-Out</td>\n",
              "      <td>2017-09-07</td>\n",
              "    </tr>\n",
              "    <tr>\n",
              "      <th>119388</th>\n",
              "      <td>City Hotel</td>\n",
              "      <td>0</td>\n",
              "      <td>109</td>\n",
              "      <td>2017</td>\n",
              "      <td>August</td>\n",
              "      <td>35</td>\n",
              "      <td>31</td>\n",
              "      <td>2</td>\n",
              "      <td>5</td>\n",
              "      <td>2</td>\n",
              "      <td>...</td>\n",
              "      <td>No Deposit</td>\n",
              "      <td>89.0</td>\n",
              "      <td>NaN</td>\n",
              "      <td>0</td>\n",
              "      <td>Transient</td>\n",
              "      <td>104.40</td>\n",
              "      <td>0</td>\n",
              "      <td>0</td>\n",
              "      <td>Check-Out</td>\n",
              "      <td>2017-09-07</td>\n",
              "    </tr>\n",
              "    <tr>\n",
              "      <th>119389</th>\n",
              "      <td>City Hotel</td>\n",
              "      <td>0</td>\n",
              "      <td>205</td>\n",
              "      <td>2017</td>\n",
              "      <td>August</td>\n",
              "      <td>35</td>\n",
              "      <td>29</td>\n",
              "      <td>2</td>\n",
              "      <td>7</td>\n",
              "      <td>2</td>\n",
              "      <td>...</td>\n",
              "      <td>No Deposit</td>\n",
              "      <td>9.0</td>\n",
              "      <td>NaN</td>\n",
              "      <td>0</td>\n",
              "      <td>Transient</td>\n",
              "      <td>151.20</td>\n",
              "      <td>0</td>\n",
              "      <td>2</td>\n",
              "      <td>Check-Out</td>\n",
              "      <td>2017-09-07</td>\n",
              "    </tr>\n",
              "  </tbody>\n",
              "</table>\n",
              "<p>5 rows × 32 columns</p>\n",
              "</div>\n",
              "      <button class=\"colab-df-convert\" onclick=\"convertToInteractive('df-2c00828c-ee50-46c7-aa74-fc6a564bc842')\"\n",
              "              title=\"Convert this dataframe to an interactive table.\"\n",
              "              style=\"display:none;\">\n",
              "        \n",
              "  <svg xmlns=\"http://www.w3.org/2000/svg\" height=\"24px\"viewBox=\"0 0 24 24\"\n",
              "       width=\"24px\">\n",
              "    <path d=\"M0 0h24v24H0V0z\" fill=\"none\"/>\n",
              "    <path d=\"M18.56 5.44l.94 2.06.94-2.06 2.06-.94-2.06-.94-.94-2.06-.94 2.06-2.06.94zm-11 1L8.5 8.5l.94-2.06 2.06-.94-2.06-.94L8.5 2.5l-.94 2.06-2.06.94zm10 10l.94 2.06.94-2.06 2.06-.94-2.06-.94-.94-2.06-.94 2.06-2.06.94z\"/><path d=\"M17.41 7.96l-1.37-1.37c-.4-.4-.92-.59-1.43-.59-.52 0-1.04.2-1.43.59L10.3 9.45l-7.72 7.72c-.78.78-.78 2.05 0 2.83L4 21.41c.39.39.9.59 1.41.59.51 0 1.02-.2 1.41-.59l7.78-7.78 2.81-2.81c.8-.78.8-2.07 0-2.86zM5.41 20L4 18.59l7.72-7.72 1.47 1.35L5.41 20z\"/>\n",
              "  </svg>\n",
              "      </button>\n",
              "      \n",
              "  <style>\n",
              "    .colab-df-container {\n",
              "      display:flex;\n",
              "      flex-wrap:wrap;\n",
              "      gap: 12px;\n",
              "    }\n",
              "\n",
              "    .colab-df-convert {\n",
              "      background-color: #E8F0FE;\n",
              "      border: none;\n",
              "      border-radius: 50%;\n",
              "      cursor: pointer;\n",
              "      display: none;\n",
              "      fill: #1967D2;\n",
              "      height: 32px;\n",
              "      padding: 0 0 0 0;\n",
              "      width: 32px;\n",
              "    }\n",
              "\n",
              "    .colab-df-convert:hover {\n",
              "      background-color: #E2EBFA;\n",
              "      box-shadow: 0px 1px 2px rgba(60, 64, 67, 0.3), 0px 1px 3px 1px rgba(60, 64, 67, 0.15);\n",
              "      fill: #174EA6;\n",
              "    }\n",
              "\n",
              "    [theme=dark] .colab-df-convert {\n",
              "      background-color: #3B4455;\n",
              "      fill: #D2E3FC;\n",
              "    }\n",
              "\n",
              "    [theme=dark] .colab-df-convert:hover {\n",
              "      background-color: #434B5C;\n",
              "      box-shadow: 0px 1px 3px 1px rgba(0, 0, 0, 0.15);\n",
              "      filter: drop-shadow(0px 1px 2px rgba(0, 0, 0, 0.3));\n",
              "      fill: #FFFFFF;\n",
              "    }\n",
              "  </style>\n",
              "\n",
              "      <script>\n",
              "        const buttonEl =\n",
              "          document.querySelector('#df-2c00828c-ee50-46c7-aa74-fc6a564bc842 button.colab-df-convert');\n",
              "        buttonEl.style.display =\n",
              "          google.colab.kernel.accessAllowed ? 'block' : 'none';\n",
              "\n",
              "        async function convertToInteractive(key) {\n",
              "          const element = document.querySelector('#df-2c00828c-ee50-46c7-aa74-fc6a564bc842');\n",
              "          const dataTable =\n",
              "            await google.colab.kernel.invokeFunction('convertToInteractive',\n",
              "                                                     [key], {});\n",
              "          if (!dataTable) return;\n",
              "\n",
              "          const docLinkHtml = 'Like what you see? Visit the ' +\n",
              "            '<a target=\"_blank\" href=https://colab.research.google.com/notebooks/data_table.ipynb>data table notebook</a>'\n",
              "            + ' to learn more about interactive tables.';\n",
              "          element.innerHTML = '';\n",
              "          dataTable['output_type'] = 'display_data';\n",
              "          await google.colab.output.renderOutput(dataTable, element);\n",
              "          const docLink = document.createElement('div');\n",
              "          docLink.innerHTML = docLinkHtml;\n",
              "          element.appendChild(docLink);\n",
              "        }\n",
              "      </script>\n",
              "    </div>\n",
              "  </div>\n",
              "  "
            ]
          },
          "metadata": {},
          "execution_count": 6
        }
      ]
    },
    {
      "cell_type": "code",
      "source": [
        "# looking for the data types non null entries\n",
        "df.info()"
      ],
      "metadata": {
        "colab": {
          "base_uri": "https://localhost:8080/"
        },
        "id": "Wxk9Ss_C04aj",
        "outputId": "6fabf9de-407c-4891-8687-5bbcb0461a81"
      },
      "execution_count": 7,
      "outputs": [
        {
          "output_type": "stream",
          "name": "stdout",
          "text": [
            "<class 'pandas.core.frame.DataFrame'>\n",
            "RangeIndex: 119390 entries, 0 to 119389\n",
            "Data columns (total 32 columns):\n",
            " #   Column                          Non-Null Count   Dtype  \n",
            "---  ------                          --------------   -----  \n",
            " 0   hotel                           119390 non-null  object \n",
            " 1   is_canceled                     119390 non-null  int64  \n",
            " 2   lead_time                       119390 non-null  int64  \n",
            " 3   arrival_date_year               119390 non-null  int64  \n",
            " 4   arrival_date_month              119390 non-null  object \n",
            " 5   arrival_date_week_number        119390 non-null  int64  \n",
            " 6   arrival_date_day_of_month       119390 non-null  int64  \n",
            " 7   stays_in_weekend_nights         119390 non-null  int64  \n",
            " 8   stays_in_week_nights            119390 non-null  int64  \n",
            " 9   adults                          119390 non-null  int64  \n",
            " 10  children                        119386 non-null  float64\n",
            " 11  babies                          119390 non-null  int64  \n",
            " 12  meal                            119390 non-null  object \n",
            " 13  country                         118902 non-null  object \n",
            " 14  market_segment                  119390 non-null  object \n",
            " 15  distribution_channel            119390 non-null  object \n",
            " 16  is_repeated_guest               119390 non-null  int64  \n",
            " 17  previous_cancellations          119390 non-null  int64  \n",
            " 18  previous_bookings_not_canceled  119390 non-null  int64  \n",
            " 19  reserved_room_type              119390 non-null  object \n",
            " 20  assigned_room_type              119390 non-null  object \n",
            " 21  booking_changes                 119390 non-null  int64  \n",
            " 22  deposit_type                    119390 non-null  object \n",
            " 23  agent                           103050 non-null  float64\n",
            " 24  company                         6797 non-null    float64\n",
            " 25  days_in_waiting_list            119390 non-null  int64  \n",
            " 26  customer_type                   119390 non-null  object \n",
            " 27  adr                             119390 non-null  float64\n",
            " 28  required_car_parking_spaces     119390 non-null  int64  \n",
            " 29  total_of_special_requests       119390 non-null  int64  \n",
            " 30  reservation_status              119390 non-null  object \n",
            " 31  reservation_status_date         119390 non-null  object \n",
            "dtypes: float64(4), int64(16), object(12)\n",
            "memory usage: 29.1+ MB\n"
          ]
        }
      ]
    },
    {
      "cell_type": "code",
      "source": [
        "# looking at the min, max values,mean values etc. NAN values for mean,25% ,50%,75%,max indicates those are categorical columns.\n",
        "df.describe()"
      ],
      "metadata": {
        "colab": {
          "base_uri": "https://localhost:8080/",
          "height": 364
        },
        "id": "j973PY3I0-Wu",
        "outputId": "c7a642f5-c5c6-4e1b-9a7e-84076b861c58"
      },
      "execution_count": 8,
      "outputs": [
        {
          "output_type": "execute_result",
          "data": {
            "text/plain": [
              "         is_canceled      lead_time  arrival_date_year  \\\n",
              "count  119390.000000  119390.000000      119390.000000   \n",
              "mean        0.370416     104.011416        2016.156554   \n",
              "std         0.482918     106.863097           0.707476   \n",
              "min         0.000000       0.000000        2015.000000   \n",
              "25%         0.000000      18.000000        2016.000000   \n",
              "50%         0.000000      69.000000        2016.000000   \n",
              "75%         1.000000     160.000000        2017.000000   \n",
              "max         1.000000     737.000000        2017.000000   \n",
              "\n",
              "       arrival_date_week_number  arrival_date_day_of_month  \\\n",
              "count             119390.000000              119390.000000   \n",
              "mean                  27.165173                  15.798241   \n",
              "std                   13.605138                   8.780829   \n",
              "min                    1.000000                   1.000000   \n",
              "25%                   16.000000                   8.000000   \n",
              "50%                   28.000000                  16.000000   \n",
              "75%                   38.000000                  23.000000   \n",
              "max                   53.000000                  31.000000   \n",
              "\n",
              "       stays_in_weekend_nights  stays_in_week_nights         adults  \\\n",
              "count            119390.000000         119390.000000  119390.000000   \n",
              "mean                  0.927599              2.500302       1.856403   \n",
              "std                   0.998613              1.908286       0.579261   \n",
              "min                   0.000000              0.000000       0.000000   \n",
              "25%                   0.000000              1.000000       2.000000   \n",
              "50%                   1.000000              2.000000       2.000000   \n",
              "75%                   2.000000              3.000000       2.000000   \n",
              "max                  19.000000             50.000000      55.000000   \n",
              "\n",
              "            children         babies  is_repeated_guest  \\\n",
              "count  119386.000000  119390.000000      119390.000000   \n",
              "mean        0.103890       0.007949           0.031912   \n",
              "std         0.398561       0.097436           0.175767   \n",
              "min         0.000000       0.000000           0.000000   \n",
              "25%         0.000000       0.000000           0.000000   \n",
              "50%         0.000000       0.000000           0.000000   \n",
              "75%         0.000000       0.000000           0.000000   \n",
              "max        10.000000      10.000000           1.000000   \n",
              "\n",
              "       previous_cancellations  previous_bookings_not_canceled  \\\n",
              "count           119390.000000                   119390.000000   \n",
              "mean                 0.087118                        0.137097   \n",
              "std                  0.844336                        1.497437   \n",
              "min                  0.000000                        0.000000   \n",
              "25%                  0.000000                        0.000000   \n",
              "50%                  0.000000                        0.000000   \n",
              "75%                  0.000000                        0.000000   \n",
              "max                 26.000000                       72.000000   \n",
              "\n",
              "       booking_changes          agent      company  days_in_waiting_list  \\\n",
              "count    119390.000000  103050.000000  6797.000000         119390.000000   \n",
              "mean          0.221124      86.693382   189.266735              2.321149   \n",
              "std           0.652306     110.774548   131.655015             17.594721   \n",
              "min           0.000000       1.000000     6.000000              0.000000   \n",
              "25%           0.000000       9.000000    62.000000              0.000000   \n",
              "50%           0.000000      14.000000   179.000000              0.000000   \n",
              "75%           0.000000     229.000000   270.000000              0.000000   \n",
              "max          21.000000     535.000000   543.000000            391.000000   \n",
              "\n",
              "                 adr  required_car_parking_spaces  total_of_special_requests  \n",
              "count  119390.000000                119390.000000              119390.000000  \n",
              "mean      101.831122                     0.062518                   0.571363  \n",
              "std        50.535790                     0.245291                   0.792798  \n",
              "min        -6.380000                     0.000000                   0.000000  \n",
              "25%        69.290000                     0.000000                   0.000000  \n",
              "50%        94.575000                     0.000000                   0.000000  \n",
              "75%       126.000000                     0.000000                   1.000000  \n",
              "max      5400.000000                     8.000000                   5.000000  "
            ],
            "text/html": [
              "\n",
              "  <div id=\"df-771adebe-24d4-4d81-9755-919044868ffa\">\n",
              "    <div class=\"colab-df-container\">\n",
              "      <div>\n",
              "<style scoped>\n",
              "    .dataframe tbody tr th:only-of-type {\n",
              "        vertical-align: middle;\n",
              "    }\n",
              "\n",
              "    .dataframe tbody tr th {\n",
              "        vertical-align: top;\n",
              "    }\n",
              "\n",
              "    .dataframe thead th {\n",
              "        text-align: right;\n",
              "    }\n",
              "</style>\n",
              "<table border=\"1\" class=\"dataframe\">\n",
              "  <thead>\n",
              "    <tr style=\"text-align: right;\">\n",
              "      <th></th>\n",
              "      <th>is_canceled</th>\n",
              "      <th>lead_time</th>\n",
              "      <th>arrival_date_year</th>\n",
              "      <th>arrival_date_week_number</th>\n",
              "      <th>arrival_date_day_of_month</th>\n",
              "      <th>stays_in_weekend_nights</th>\n",
              "      <th>stays_in_week_nights</th>\n",
              "      <th>adults</th>\n",
              "      <th>children</th>\n",
              "      <th>babies</th>\n",
              "      <th>is_repeated_guest</th>\n",
              "      <th>previous_cancellations</th>\n",
              "      <th>previous_bookings_not_canceled</th>\n",
              "      <th>booking_changes</th>\n",
              "      <th>agent</th>\n",
              "      <th>company</th>\n",
              "      <th>days_in_waiting_list</th>\n",
              "      <th>adr</th>\n",
              "      <th>required_car_parking_spaces</th>\n",
              "      <th>total_of_special_requests</th>\n",
              "    </tr>\n",
              "  </thead>\n",
              "  <tbody>\n",
              "    <tr>\n",
              "      <th>count</th>\n",
              "      <td>119390.000000</td>\n",
              "      <td>119390.000000</td>\n",
              "      <td>119390.000000</td>\n",
              "      <td>119390.000000</td>\n",
              "      <td>119390.000000</td>\n",
              "      <td>119390.000000</td>\n",
              "      <td>119390.000000</td>\n",
              "      <td>119390.000000</td>\n",
              "      <td>119386.000000</td>\n",
              "      <td>119390.000000</td>\n",
              "      <td>119390.000000</td>\n",
              "      <td>119390.000000</td>\n",
              "      <td>119390.000000</td>\n",
              "      <td>119390.000000</td>\n",
              "      <td>103050.000000</td>\n",
              "      <td>6797.000000</td>\n",
              "      <td>119390.000000</td>\n",
              "      <td>119390.000000</td>\n",
              "      <td>119390.000000</td>\n",
              "      <td>119390.000000</td>\n",
              "    </tr>\n",
              "    <tr>\n",
              "      <th>mean</th>\n",
              "      <td>0.370416</td>\n",
              "      <td>104.011416</td>\n",
              "      <td>2016.156554</td>\n",
              "      <td>27.165173</td>\n",
              "      <td>15.798241</td>\n",
              "      <td>0.927599</td>\n",
              "      <td>2.500302</td>\n",
              "      <td>1.856403</td>\n",
              "      <td>0.103890</td>\n",
              "      <td>0.007949</td>\n",
              "      <td>0.031912</td>\n",
              "      <td>0.087118</td>\n",
              "      <td>0.137097</td>\n",
              "      <td>0.221124</td>\n",
              "      <td>86.693382</td>\n",
              "      <td>189.266735</td>\n",
              "      <td>2.321149</td>\n",
              "      <td>101.831122</td>\n",
              "      <td>0.062518</td>\n",
              "      <td>0.571363</td>\n",
              "    </tr>\n",
              "    <tr>\n",
              "      <th>std</th>\n",
              "      <td>0.482918</td>\n",
              "      <td>106.863097</td>\n",
              "      <td>0.707476</td>\n",
              "      <td>13.605138</td>\n",
              "      <td>8.780829</td>\n",
              "      <td>0.998613</td>\n",
              "      <td>1.908286</td>\n",
              "      <td>0.579261</td>\n",
              "      <td>0.398561</td>\n",
              "      <td>0.097436</td>\n",
              "      <td>0.175767</td>\n",
              "      <td>0.844336</td>\n",
              "      <td>1.497437</td>\n",
              "      <td>0.652306</td>\n",
              "      <td>110.774548</td>\n",
              "      <td>131.655015</td>\n",
              "      <td>17.594721</td>\n",
              "      <td>50.535790</td>\n",
              "      <td>0.245291</td>\n",
              "      <td>0.792798</td>\n",
              "    </tr>\n",
              "    <tr>\n",
              "      <th>min</th>\n",
              "      <td>0.000000</td>\n",
              "      <td>0.000000</td>\n",
              "      <td>2015.000000</td>\n",
              "      <td>1.000000</td>\n",
              "      <td>1.000000</td>\n",
              "      <td>0.000000</td>\n",
              "      <td>0.000000</td>\n",
              "      <td>0.000000</td>\n",
              "      <td>0.000000</td>\n",
              "      <td>0.000000</td>\n",
              "      <td>0.000000</td>\n",
              "      <td>0.000000</td>\n",
              "      <td>0.000000</td>\n",
              "      <td>0.000000</td>\n",
              "      <td>1.000000</td>\n",
              "      <td>6.000000</td>\n",
              "      <td>0.000000</td>\n",
              "      <td>-6.380000</td>\n",
              "      <td>0.000000</td>\n",
              "      <td>0.000000</td>\n",
              "    </tr>\n",
              "    <tr>\n",
              "      <th>25%</th>\n",
              "      <td>0.000000</td>\n",
              "      <td>18.000000</td>\n",
              "      <td>2016.000000</td>\n",
              "      <td>16.000000</td>\n",
              "      <td>8.000000</td>\n",
              "      <td>0.000000</td>\n",
              "      <td>1.000000</td>\n",
              "      <td>2.000000</td>\n",
              "      <td>0.000000</td>\n",
              "      <td>0.000000</td>\n",
              "      <td>0.000000</td>\n",
              "      <td>0.000000</td>\n",
              "      <td>0.000000</td>\n",
              "      <td>0.000000</td>\n",
              "      <td>9.000000</td>\n",
              "      <td>62.000000</td>\n",
              "      <td>0.000000</td>\n",
              "      <td>69.290000</td>\n",
              "      <td>0.000000</td>\n",
              "      <td>0.000000</td>\n",
              "    </tr>\n",
              "    <tr>\n",
              "      <th>50%</th>\n",
              "      <td>0.000000</td>\n",
              "      <td>69.000000</td>\n",
              "      <td>2016.000000</td>\n",
              "      <td>28.000000</td>\n",
              "      <td>16.000000</td>\n",
              "      <td>1.000000</td>\n",
              "      <td>2.000000</td>\n",
              "      <td>2.000000</td>\n",
              "      <td>0.000000</td>\n",
              "      <td>0.000000</td>\n",
              "      <td>0.000000</td>\n",
              "      <td>0.000000</td>\n",
              "      <td>0.000000</td>\n",
              "      <td>0.000000</td>\n",
              "      <td>14.000000</td>\n",
              "      <td>179.000000</td>\n",
              "      <td>0.000000</td>\n",
              "      <td>94.575000</td>\n",
              "      <td>0.000000</td>\n",
              "      <td>0.000000</td>\n",
              "    </tr>\n",
              "    <tr>\n",
              "      <th>75%</th>\n",
              "      <td>1.000000</td>\n",
              "      <td>160.000000</td>\n",
              "      <td>2017.000000</td>\n",
              "      <td>38.000000</td>\n",
              "      <td>23.000000</td>\n",
              "      <td>2.000000</td>\n",
              "      <td>3.000000</td>\n",
              "      <td>2.000000</td>\n",
              "      <td>0.000000</td>\n",
              "      <td>0.000000</td>\n",
              "      <td>0.000000</td>\n",
              "      <td>0.000000</td>\n",
              "      <td>0.000000</td>\n",
              "      <td>0.000000</td>\n",
              "      <td>229.000000</td>\n",
              "      <td>270.000000</td>\n",
              "      <td>0.000000</td>\n",
              "      <td>126.000000</td>\n",
              "      <td>0.000000</td>\n",
              "      <td>1.000000</td>\n",
              "    </tr>\n",
              "    <tr>\n",
              "      <th>max</th>\n",
              "      <td>1.000000</td>\n",
              "      <td>737.000000</td>\n",
              "      <td>2017.000000</td>\n",
              "      <td>53.000000</td>\n",
              "      <td>31.000000</td>\n",
              "      <td>19.000000</td>\n",
              "      <td>50.000000</td>\n",
              "      <td>55.000000</td>\n",
              "      <td>10.000000</td>\n",
              "      <td>10.000000</td>\n",
              "      <td>1.000000</td>\n",
              "      <td>26.000000</td>\n",
              "      <td>72.000000</td>\n",
              "      <td>21.000000</td>\n",
              "      <td>535.000000</td>\n",
              "      <td>543.000000</td>\n",
              "      <td>391.000000</td>\n",
              "      <td>5400.000000</td>\n",
              "      <td>8.000000</td>\n",
              "      <td>5.000000</td>\n",
              "    </tr>\n",
              "  </tbody>\n",
              "</table>\n",
              "</div>\n",
              "      <button class=\"colab-df-convert\" onclick=\"convertToInteractive('df-771adebe-24d4-4d81-9755-919044868ffa')\"\n",
              "              title=\"Convert this dataframe to an interactive table.\"\n",
              "              style=\"display:none;\">\n",
              "        \n",
              "  <svg xmlns=\"http://www.w3.org/2000/svg\" height=\"24px\"viewBox=\"0 0 24 24\"\n",
              "       width=\"24px\">\n",
              "    <path d=\"M0 0h24v24H0V0z\" fill=\"none\"/>\n",
              "    <path d=\"M18.56 5.44l.94 2.06.94-2.06 2.06-.94-2.06-.94-.94-2.06-.94 2.06-2.06.94zm-11 1L8.5 8.5l.94-2.06 2.06-.94-2.06-.94L8.5 2.5l-.94 2.06-2.06.94zm10 10l.94 2.06.94-2.06 2.06-.94-2.06-.94-.94-2.06-.94 2.06-2.06.94z\"/><path d=\"M17.41 7.96l-1.37-1.37c-.4-.4-.92-.59-1.43-.59-.52 0-1.04.2-1.43.59L10.3 9.45l-7.72 7.72c-.78.78-.78 2.05 0 2.83L4 21.41c.39.39.9.59 1.41.59.51 0 1.02-.2 1.41-.59l7.78-7.78 2.81-2.81c.8-.78.8-2.07 0-2.86zM5.41 20L4 18.59l7.72-7.72 1.47 1.35L5.41 20z\"/>\n",
              "  </svg>\n",
              "      </button>\n",
              "      \n",
              "  <style>\n",
              "    .colab-df-container {\n",
              "      display:flex;\n",
              "      flex-wrap:wrap;\n",
              "      gap: 12px;\n",
              "    }\n",
              "\n",
              "    .colab-df-convert {\n",
              "      background-color: #E8F0FE;\n",
              "      border: none;\n",
              "      border-radius: 50%;\n",
              "      cursor: pointer;\n",
              "      display: none;\n",
              "      fill: #1967D2;\n",
              "      height: 32px;\n",
              "      padding: 0 0 0 0;\n",
              "      width: 32px;\n",
              "    }\n",
              "\n",
              "    .colab-df-convert:hover {\n",
              "      background-color: #E2EBFA;\n",
              "      box-shadow: 0px 1px 2px rgba(60, 64, 67, 0.3), 0px 1px 3px 1px rgba(60, 64, 67, 0.15);\n",
              "      fill: #174EA6;\n",
              "    }\n",
              "\n",
              "    [theme=dark] .colab-df-convert {\n",
              "      background-color: #3B4455;\n",
              "      fill: #D2E3FC;\n",
              "    }\n",
              "\n",
              "    [theme=dark] .colab-df-convert:hover {\n",
              "      background-color: #434B5C;\n",
              "      box-shadow: 0px 1px 3px 1px rgba(0, 0, 0, 0.15);\n",
              "      filter: drop-shadow(0px 1px 2px rgba(0, 0, 0, 0.3));\n",
              "      fill: #FFFFFF;\n",
              "    }\n",
              "  </style>\n",
              "\n",
              "      <script>\n",
              "        const buttonEl =\n",
              "          document.querySelector('#df-771adebe-24d4-4d81-9755-919044868ffa button.colab-df-convert');\n",
              "        buttonEl.style.display =\n",
              "          google.colab.kernel.accessAllowed ? 'block' : 'none';\n",
              "\n",
              "        async function convertToInteractive(key) {\n",
              "          const element = document.querySelector('#df-771adebe-24d4-4d81-9755-919044868ffa');\n",
              "          const dataTable =\n",
              "            await google.colab.kernel.invokeFunction('convertToInteractive',\n",
              "                                                     [key], {});\n",
              "          if (!dataTable) return;\n",
              "\n",
              "          const docLinkHtml = 'Like what you see? Visit the ' +\n",
              "            '<a target=\"_blank\" href=https://colab.research.google.com/notebooks/data_table.ipynb>data table notebook</a>'\n",
              "            + ' to learn more about interactive tables.';\n",
              "          element.innerHTML = '';\n",
              "          dataTable['output_type'] = 'display_data';\n",
              "          await google.colab.output.renderOutput(dataTable, element);\n",
              "          const docLink = document.createElement('div');\n",
              "          docLink.innerHTML = docLinkHtml;\n",
              "          element.appendChild(docLink);\n",
              "        }\n",
              "      </script>\n",
              "    </div>\n",
              "  </div>\n",
              "  "
            ]
          },
          "metadata": {},
          "execution_count": 8
        }
      ]
    },
    {
      "cell_type": "code",
      "source": [
        "# creating copy of dataframe\n",
        "df = df.copy()"
      ],
      "metadata": {
        "id": "rxMW2GPl1EDU"
      },
      "execution_count": 9,
      "outputs": []
    },
    {
      "cell_type": "markdown",
      "source": [
        "# Overview of column"
      ],
      "metadata": {
        "id": "qvFOp9IsSQBO"
      }
    },
    {
      "cell_type": "code",
      "source": [
        "df.columns"
      ],
      "metadata": {
        "id": "adp54dJpSR6c",
        "outputId": "b5ae53ae-2ba9-49e9-8a4d-f8607bdd103e",
        "colab": {
          "base_uri": "https://localhost:8080/"
        }
      },
      "execution_count": 10,
      "outputs": [
        {
          "output_type": "execute_result",
          "data": {
            "text/plain": [
              "Index(['hotel', 'is_canceled', 'lead_time', 'arrival_date_year',\n",
              "       'arrival_date_month', 'arrival_date_week_number',\n",
              "       'arrival_date_day_of_month', 'stays_in_weekend_nights',\n",
              "       'stays_in_week_nights', 'adults', 'children', 'babies', 'meal',\n",
              "       'country', 'market_segment', 'distribution_channel',\n",
              "       'is_repeated_guest', 'previous_cancellations',\n",
              "       'previous_bookings_not_canceled', 'reserved_room_type',\n",
              "       'assigned_room_type', 'booking_changes', 'deposit_type', 'agent',\n",
              "       'company', 'days_in_waiting_list', 'customer_type', 'adr',\n",
              "       'required_car_parking_spaces', 'total_of_special_requests',\n",
              "       'reservation_status', 'reservation_status_date'],\n",
              "      dtype='object')"
            ]
          },
          "metadata": {},
          "execution_count": 10
        }
      ]
    },
    {
      "cell_type": "markdown",
      "source": [
        " so before moving forward we will see the unique value attained by each column i.e removing duplicates if any have in the data.\n",
        "\n",
        "   This will help us to get an proper data"
      ],
      "metadata": {
        "id": "VBYTjhX8SYeh"
      }
    },
    {
      "cell_type": "code",
      "source": [
        "df['hotel'].unique()"
      ],
      "metadata": {
        "id": "turiSStkS05j",
        "outputId": "9cba5457-0c94-4bc3-e25d-a5ac9bd138c9",
        "colab": {
          "base_uri": "https://localhost:8080/"
        }
      },
      "execution_count": 11,
      "outputs": [
        {
          "output_type": "execute_result",
          "data": {
            "text/plain": [
              "array(['Resort Hotel', 'City Hotel'], dtype=object)"
            ]
          },
          "metadata": {},
          "execution_count": 11
        }
      ]
    },
    {
      "cell_type": "code",
      "source": [
        "df['is_canceled'].unique()"
      ],
      "metadata": {
        "id": "Yo5E53xmS2Ir",
        "outputId": "3a9563da-3f59-4b7f-9428-f499cde2cc59",
        "colab": {
          "base_uri": "https://localhost:8080/"
        }
      },
      "execution_count": 12,
      "outputs": [
        {
          "output_type": "execute_result",
          "data": {
            "text/plain": [
              "array([0, 1])"
            ]
          },
          "metadata": {},
          "execution_count": 12
        }
      ]
    },
    {
      "cell_type": "code",
      "source": [
        "df['arrival_date_year'].unique()"
      ],
      "metadata": {
        "id": "uW4Z4f0yS9my",
        "outputId": "656f5c54-b0ba-4cdb-d9c1-56da6c019000",
        "colab": {
          "base_uri": "https://localhost:8080/"
        }
      },
      "execution_count": 13,
      "outputs": [
        {
          "output_type": "execute_result",
          "data": {
            "text/plain": [
              "array([2015, 2016, 2017])"
            ]
          },
          "metadata": {},
          "execution_count": 13
        }
      ]
    },
    {
      "cell_type": "code",
      "source": [
        "df['meal'].unique()"
      ],
      "metadata": {
        "id": "GBl8U6cQTCvt",
        "outputId": "a40b9e7a-af16-4f4e-f020-3205c6e4298f",
        "colab": {
          "base_uri": "https://localhost:8080/"
        }
      },
      "execution_count": 14,
      "outputs": [
        {
          "output_type": "execute_result",
          "data": {
            "text/plain": [
              "array(['BB', 'FB', 'HB', 'SC', 'Undefined'], dtype=object)"
            ]
          },
          "metadata": {},
          "execution_count": 14
        }
      ]
    },
    {
      "cell_type": "code",
      "source": [
        "df['customer_type'].unique()"
      ],
      "metadata": {
        "id": "x4jRezq5TKaJ",
        "outputId": "5bb5c78f-b964-4d07-aa04-76b43133b285",
        "colab": {
          "base_uri": "https://localhost:8080/"
        }
      },
      "execution_count": 15,
      "outputs": [
        {
          "output_type": "execute_result",
          "data": {
            "text/plain": [
              "array(['Transient', 'Contract', 'Transient-Party', 'Group'], dtype=object)"
            ]
          },
          "metadata": {},
          "execution_count": 15
        }
      ]
    },
    {
      "cell_type": "code",
      "source": [
        "df['children'].unique()             # This column contain 0 as well as nan value"
      ],
      "metadata": {
        "id": "3Y2u_3bJTSNg",
        "outputId": "f60d9673-bd9d-41f6-ad69-b01d646e5c17",
        "colab": {
          "base_uri": "https://localhost:8080/"
        }
      },
      "execution_count": 16,
      "outputs": [
        {
          "output_type": "execute_result",
          "data": {
            "text/plain": [
              "array([ 0.,  1.,  2., 10.,  3., nan])"
            ]
          },
          "metadata": {},
          "execution_count": 16
        }
      ]
    },
    {
      "cell_type": "code",
      "source": [
        "df['booking_changes'].unique()"
      ],
      "metadata": {
        "id": "_hIMj3YxTW0S",
        "outputId": "c0d2ac61-122b-4beb-c59e-c7e8d4274b3a",
        "colab": {
          "base_uri": "https://localhost:8080/"
        }
      },
      "execution_count": 17,
      "outputs": [
        {
          "output_type": "execute_result",
          "data": {
            "text/plain": [
              "array([ 3,  4,  0,  1,  2,  5, 17,  6,  8,  7, 10, 16,  9, 13, 12, 20, 14,\n",
              "       15, 11, 21, 18])"
            ]
          },
          "metadata": {},
          "execution_count": 17
        }
      ]
    },
    {
      "cell_type": "code",
      "source": [
        "df['distribution_channel'].unique()"
      ],
      "metadata": {
        "id": "7Qo6GzjmTboW",
        "outputId": "b62f1efe-0fb0-4cef-ad0d-0a978d977f62",
        "colab": {
          "base_uri": "https://localhost:8080/"
        }
      },
      "execution_count": 18,
      "outputs": [
        {
          "output_type": "execute_result",
          "data": {
            "text/plain": [
              "array(['Direct', 'Corporate', 'TA/TO', 'Undefined', 'GDS'], dtype=object)"
            ]
          },
          "metadata": {},
          "execution_count": 18
        }
      ]
    },
    {
      "cell_type": "markdown",
      "source": [
        "# Cleaning Data\n",
        "  Cleaning data is an crucial step before EDA as it will remove the data which will not have an obvious meaning this will perform as it affect the outcome of the EDA.\n",
        "      \n",
        "  while cleaning data we will perform following steps: 1.Removing duplicate rows if any 2.Checking for null values 3.Converting column to appropriate data type 4.Adding important column if needed"
      ],
      "metadata": {
        "id": "HyNq-7AzTni1"
      }
    },
    {
      "cell_type": "markdown",
      "source": [
        "Step 1 : Removing duplicate rows if any"
      ],
      "metadata": {
        "id": "Occ97HrPTukY"
      }
    },
    {
      "cell_type": "code",
      "source": [
        "# checking for duplicate rows\n",
        "df[df.duplicated()].shape"
      ],
      "metadata": {
        "id": "DaCFQVbqT0CC",
        "outputId": "7433872d-dcbf-45c8-d884-2277a1ff7641",
        "colab": {
          "base_uri": "https://localhost:8080/"
        }
      },
      "execution_count": 19,
      "outputs": [
        {
          "output_type": "execute_result",
          "data": {
            "text/plain": [
              "(31994, 32)"
            ]
          },
          "metadata": {},
          "execution_count": 19
        }
      ]
    },
    {
      "cell_type": "code",
      "source": [
        "# droping duplicate value\n",
        "df.drop_duplicates(inplace = True)"
      ],
      "metadata": {
        "id": "3SDuDMVAT6T3"
      },
      "execution_count": 20,
      "outputs": []
    },
    {
      "cell_type": "code",
      "source": [
        "df.shape"
      ],
      "metadata": {
        "id": "ihqZGovWT-jF",
        "outputId": "4dc990bc-3d2c-43a0-d637-ae10a893717d",
        "colab": {
          "base_uri": "https://localhost:8080/"
        }
      },
      "execution_count": 21,
      "outputs": [
        {
          "output_type": "execute_result",
          "data": {
            "text/plain": [
              "(87396, 32)"
            ]
          },
          "metadata": {},
          "execution_count": 21
        }
      ]
    },
    {
      "cell_type": "markdown",
      "source": [
        "Step 2 : Checking for Null values"
      ],
      "metadata": {
        "id": "4DV9d6RuUO03"
      }
    },
    {
      "cell_type": "code",
      "source": [
        "# checking for Null value\n",
        "df.isnull().sum().sort_values(ascending = False)[:6]"
      ],
      "metadata": {
        "id": "ynevuUSHUNyZ",
        "outputId": "94a4a39e-781b-4a31-8656-b14c846f99e5",
        "colab": {
          "base_uri": "https://localhost:8080/"
        }
      },
      "execution_count": 22,
      "outputs": [
        {
          "output_type": "execute_result",
          "data": {
            "text/plain": [
              "company               82137\n",
              "agent                 12193\n",
              "country                 452\n",
              "children                  4\n",
              "reserved_room_type        0\n",
              "assigned_room_type        0\n",
              "dtype: int64"
            ]
          },
          "metadata": {},
          "execution_count": 22
        }
      ]
    },
    {
      "cell_type": "markdown",
      "source": [
        "So we Have Null values in columns- Company, agent, Country,children.\n",
        "\n",
        " 1) for company and agent I will fill the Missing values with 0\n",
        "\n",
        " 2) for country I will fill Missing values with oject 'Others'. ( assuming while collecting data country was not found so user selected the 'Others' option.)\n",
        "\n",
        " 3) AS the count of missing values in Children Column is only 4, so we can replace with 0 considering no childrens."
      ],
      "metadata": {
        "id": "poio7PmxUqUT"
      }
    },
    {
      "cell_type": "code",
      "source": [
        "# replacing Null value with 0\n",
        "null_columns=['agent','children','company']\n",
        "for col in null_columns:\n",
        "  df[col].fillna(0,inplace=True)\n",
        "\n",
        "\n",
        "# Replacing NA values with 'others'\n",
        "df['country'].fillna('others',inplace=True)"
      ],
      "metadata": {
        "id": "oi1Pl-q2mZ8A"
      },
      "execution_count": 23,
      "outputs": []
    },
    {
      "cell_type": "code",
      "source": [
        "# Checking if all null values are removed\n",
        "df.isnull().sum().sort_values(ascending = False)[:6]"
      ],
      "metadata": {
        "id": "1oTV1OWYmjGT",
        "outputId": "57ecb471-4704-44bf-e578-b3f01b856422",
        "colab": {
          "base_uri": "https://localhost:8080/"
        }
      },
      "execution_count": 24,
      "outputs": [
        {
          "output_type": "execute_result",
          "data": {
            "text/plain": [
              "hotel                          0\n",
              "is_canceled                    0\n",
              "reservation_status             0\n",
              "total_of_special_requests      0\n",
              "required_car_parking_spaces    0\n",
              "adr                            0\n",
              "dtype: int64"
            ]
          },
          "metadata": {},
          "execution_count": 24
        }
      ]
    },
    {
      "cell_type": "markdown",
      "source": [
        "Their are some rows like adults, children or babys equal to zero so we will remove them"
      ],
      "metadata": {
        "id": "bsGuWSGLmoLA"
      }
    },
    {
      "cell_type": "code",
      "source": [
        "df[df['adults']+df['babies']+df['children'] == 0].shape"
      ],
      "metadata": {
        "id": "fWnLm3xbmsuK",
        "outputId": "51c4588a-792f-445b-bed2-8d61cc45febb",
        "colab": {
          "base_uri": "https://localhost:8080/"
        }
      },
      "execution_count": 25,
      "outputs": [
        {
          "output_type": "execute_result",
          "data": {
            "text/plain": [
              "(166, 32)"
            ]
          },
          "metadata": {},
          "execution_count": 25
        }
      ]
    },
    {
      "cell_type": "code",
      "source": [
        "df.drop(df[df['adults']+df['babies']+df['children'] == 0].index, inplace = True)"
      ],
      "metadata": {
        "id": "fQ_cb2cgm0hQ"
      },
      "execution_count": 26,
      "outputs": []
    },
    {
      "cell_type": "markdown",
      "source": [
        "Step 3 : Converting column to appropriate datatype"
      ],
      "metadata": {
        "id": "HstRvw10m-uv"
      }
    },
    {
      "cell_type": "code",
      "source": [
        "# Converting datatype of columns 'children', 'company' and 'agent' from float to int.\n",
        "df[['children', 'company', 'agent']] = df[['children', 'company', 'agent']].astype('int64')"
      ],
      "metadata": {
        "id": "dA9BgVLznDaP"
      },
      "execution_count": 27,
      "outputs": []
    },
    {
      "cell_type": "code",
      "source": [
        "# changing datatype of column 'reservation_status_date' to data_type.\n",
        "df['reservation_status_date'] = pd.to_datetime(df['reservation_status_date'], format = '%Y-%m-%d')"
      ],
      "metadata": {
        "id": "-Ty7P9_9nHvB"
      },
      "execution_count": 28,
      "outputs": []
    },
    {
      "cell_type": "markdown",
      "source": [
        "Step 4 : Adding important column"
      ],
      "metadata": {
        "id": "xBPZ7OWAnYCD"
      }
    },
    {
      "cell_type": "code",
      "source": [
        "# Adding total staying days in hotels\n",
        "df['total_stay'] = df['stays_in_weekend_nights']+df['stays_in_week_nights']"
      ],
      "metadata": {
        "id": "zBhXvQNDnd8n"
      },
      "execution_count": 29,
      "outputs": []
    },
    {
      "cell_type": "code",
      "source": [
        "# Adding total people num as column, i.e. total people num = num of adults + children + babies\n",
        "df['total_people'] = df['adults']+df['children']+df['babies']"
      ],
      "metadata": {
        "id": "ZeTCAM_5nkq8"
      },
      "execution_count": 30,
      "outputs": []
    },
    {
      "cell_type": "markdown",
      "source": [
        "So finally after doing an lots of efforts with data we get an clear data\n",
        "\n",
        "Now lets move towards the main part of our project i.e EDA"
      ],
      "metadata": {
        "id": "f6MD_BK9nqsE"
      }
    }
  ]
}